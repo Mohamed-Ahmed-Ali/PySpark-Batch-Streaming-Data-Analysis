{
  "cells": [
    {
      "cell_type": "code",
      "source": [
        "from google.colab import drive\n",
        "drive.mount('/content/drive')\n",
        "!pip install pyspark\n"
      ],
      "metadata": {
        "id": "KkCog20rtsji",
        "outputId": "0894fe31-20b1-456e-a309-0f5559041537",
        "colab": {
          "base_uri": "https://localhost:8080/"
        }
      },
      "id": "KkCog20rtsji",
      "execution_count": null,
      "outputs": [
        {
          "output_type": "stream",
          "name": "stdout",
          "text": [
            "Mounted at /content/drive\n",
            "Collecting pyspark\n",
            "  Downloading pyspark-3.5.0.tar.gz (316.9 MB)\n",
            "\u001b[2K     \u001b[90m━━━━━━━━━━━━━━━━━━━━━━━━━━━━━━━━━━━━━━━\u001b[0m \u001b[32m316.9/316.9 MB\u001b[0m \u001b[31m4.5 MB/s\u001b[0m eta \u001b[36m0:00:00\u001b[0m\n",
            "\u001b[?25h  Preparing metadata (setup.py) ... \u001b[?25l\u001b[?25hdone\n",
            "Requirement already satisfied: py4j==0.10.9.7 in /usr/local/lib/python3.10/dist-packages (from pyspark) (0.10.9.7)\n",
            "Building wheels for collected packages: pyspark\n",
            "  Building wheel for pyspark (setup.py) ... \u001b[?25l\u001b[?25hdone\n",
            "  Created wheel for pyspark: filename=pyspark-3.5.0-py2.py3-none-any.whl size=317425344 sha256=e9b8c75d049b985ca6673c4926c96190231b67eb0381bf2b8240980d39017836\n",
            "  Stored in directory: /root/.cache/pip/wheels/41/4e/10/c2cf2467f71c678cfc8a6b9ac9241e5e44a01940da8fbb17fc\n",
            "Successfully built pyspark\n",
            "Installing collected packages: pyspark\n",
            "Successfully installed pyspark-3.5.0\n"
          ]
        }
      ]
    },
    {
      "cell_type": "markdown",
      "id": "85669f91",
      "metadata": {
        "id": "85669f91"
      },
      "source": [
        "### Create SparkSession:"
      ]
    },
    {
      "cell_type": "code",
      "source": [
        "from pyspark.sql import SparkSession\n",
        "spark = SparkSession.builder\\\n",
        ".master (\"local\")\\\n",
        ".appName (\"Colab\")\\\n",
        ".config ('spark.ui.port', '4050')\\\n",
        ".getOrCreate ()\n",
        "\n",
        "\n",
        "spark"
      ],
      "metadata": {
        "id": "RWjSiqR_tqQn",
        "outputId": "df91d736-5a22-4927-ff14-51b0c9971c6a",
        "colab": {
          "base_uri": "https://localhost:8080/",
          "height": 219
        }
      },
      "id": "RWjSiqR_tqQn",
      "execution_count": null,
      "outputs": [
        {
          "output_type": "execute_result",
          "data": {
            "text/plain": [
              "<pyspark.sql.session.SparkSession at 0x7a3a702bbd30>"
            ],
            "text/html": [
              "\n",
              "            <div>\n",
              "                <p><b>SparkSession - in-memory</b></p>\n",
              "                \n",
              "        <div>\n",
              "            <p><b>SparkContext</b></p>\n",
              "\n",
              "            <p><a href=\"http://7e78a5a864a0:4050\">Spark UI</a></p>\n",
              "\n",
              "            <dl>\n",
              "              <dt>Version</dt>\n",
              "                <dd><code>v3.5.0</code></dd>\n",
              "              <dt>Master</dt>\n",
              "                <dd><code>local</code></dd>\n",
              "              <dt>AppName</dt>\n",
              "                <dd><code>Colab</code></dd>\n",
              "            </dl>\n",
              "        </div>\n",
              "        \n",
              "            </div>\n",
              "        "
            ]
          },
          "metadata": {},
          "execution_count": 2
        }
      ]
    },
    {
      "cell_type": "markdown",
      "id": "e0882328",
      "metadata": {
        "id": "e0882328"
      },
      "source": [
        "### Read the DataFrames_sample.json file:"
      ]
    },
    {
      "cell_type": "code",
      "execution_count": null,
      "id": "61c8b969",
      "metadata": {
        "id": "61c8b969"
      },
      "outputs": [],
      "source": [
        "df = spark.read.format('json') \\\n",
        "    .option('header', 'true') \\\n",
        "    .option('inferSchema', 'true') \\\n",
        "    .load('drive/MyDrive/Spark/DataFrames_sample.json')"
      ]
    },
    {
      "cell_type": "markdown",
      "id": "ba09cf4d",
      "metadata": {
        "id": "ba09cf4d"
      },
      "source": [
        "### Display part of the data and schema:\n"
      ]
    },
    {
      "cell_type": "code",
      "execution_count": null,
      "id": "c7f95eeb",
      "metadata": {
        "colab": {
          "base_uri": "https://localhost:8080/"
        },
        "id": "c7f95eeb",
        "outputId": "39d0aa28-1ed6-4dc7-8031-d4b41e04a0ce"
      },
      "outputs": [
        {
          "output_type": "stream",
          "name": "stdout",
          "text": [
            "+----+----+---------+---+-----------+----+----------+-----+------+----+\n",
            "|   D|   H|      HDD| Id|      Model| RAM|ScreenSize|    W|Weight|Year|\n",
            "+----+----+---------+---+-----------+----+----------+-----+------+----+\n",
            "|9.48|0.61|512GB SSD|  1|MacBook Pro|16GB|       15\"|13.75|  4.02|2015|\n",
            "|7.74|0.52|256GB SSD|  2|    MacBook| 8GB|       12\"|11.04|  2.03|2016|\n",
            "|8.94|0.68|128GB SSD|  3|MacBook Air| 8GB|     13.3\"| 12.8|  2.96|2016|\n",
            "| 8.0|20.3|  1TB SSD|  4|       iMac|64GB|       27\"| 25.6|  20.8|2017|\n",
            "+----+----+---------+---+-----------+----+----------+-----+------+----+\n",
            "\n",
            "root\n",
            " |-- D: double (nullable = true)\n",
            " |-- H: double (nullable = true)\n",
            " |-- HDD: string (nullable = true)\n",
            " |-- Id: long (nullable = true)\n",
            " |-- Model: string (nullable = true)\n",
            " |-- RAM: string (nullable = true)\n",
            " |-- ScreenSize: string (nullable = true)\n",
            " |-- W: double (nullable = true)\n",
            " |-- Weight: double (nullable = true)\n",
            " |-- Year: long (nullable = true)\n",
            "\n"
          ]
        }
      ],
      "source": [
        "df.show()\n",
        "\n",
        "df.printSchema()"
      ]
    },
    {
      "cell_type": "markdown",
      "id": "981f5434",
      "metadata": {
        "id": "981f5434"
      },
      "source": [
        "## Using SQL\n",
        "### Create Temp View:"
      ]
    },
    {
      "cell_type": "code",
      "execution_count": null,
      "id": "1c868466",
      "metadata": {
        "id": "1c868466",
        "outputId": "0a83e9e5-1e08-4552-cd78-ba78e62f6f4f",
        "colab": {
          "base_uri": "https://localhost:8080/"
        }
      },
      "outputs": [
        {
          "output_type": "stream",
          "name": "stdout",
          "text": [
            "+----+----+---------+---+-----------+----+----------+-----+------+----+\n",
            "|   D|   H|      HDD| Id|      Model| RAM|ScreenSize|    W|Weight|Year|\n",
            "+----+----+---------+---+-----------+----+----------+-----+------+----+\n",
            "|9.48|0.61|512GB SSD|  1|MacBook Pro|16GB|       15\"|13.75|  4.02|2015|\n",
            "|7.74|0.52|256GB SSD|  2|    MacBook| 8GB|       12\"|11.04|  2.03|2016|\n",
            "|8.94|0.68|128GB SSD|  3|MacBook Air| 8GB|     13.3\"| 12.8|  2.96|2016|\n",
            "| 8.0|20.3|  1TB SSD|  4|       iMac|64GB|       27\"| 25.6|  20.8|2017|\n",
            "+----+----+---------+---+-----------+----+----------+-----+------+----+\n",
            "\n"
          ]
        }
      ],
      "source": [
        "df.createOrReplaceTempView('my_view')\n",
        "\n",
        "result = spark.sql('SELECT * FROM my_view')\n",
        "\n",
        "result.show()"
      ]
    },
    {
      "cell_type": "markdown",
      "id": "c7604e3c",
      "metadata": {
        "id": "c7604e3c"
      },
      "source": [
        "### Display \"RAM\"column and count \"RAM\" column:"
      ]
    },
    {
      "cell_type": "code",
      "execution_count": null,
      "id": "2746a04b",
      "metadata": {
        "colab": {
          "base_uri": "https://localhost:8080/"
        },
        "id": "2746a04b",
        "outputId": "511451a7-3ee8-4a40-e10a-81e22e608b72"
      },
      "outputs": [
        {
          "output_type": "stream",
          "name": "stdout",
          "text": [
            "+----+\n",
            "| RAM|\n",
            "+----+\n",
            "|16GB|\n",
            "| 8GB|\n",
            "| 8GB|\n",
            "|64GB|\n",
            "+----+\n",
            "\n"
          ]
        }
      ],
      "source": [
        "result = spark.sql('SELECT RAM FROM my_view')\n",
        "\n",
        "result.show()"
      ]
    },
    {
      "cell_type": "markdown",
      "id": "35410e83",
      "metadata": {
        "id": "35410e83"
      },
      "source": [
        "### Get all columns when \"Year\" column equal \"2015\"  "
      ]
    },
    {
      "cell_type": "code",
      "execution_count": null,
      "id": "8b44a363",
      "metadata": {
        "colab": {
          "base_uri": "https://localhost:8080/"
        },
        "id": "8b44a363",
        "outputId": "4ae1f684-6611-4784-a758-7db439f6f743"
      },
      "outputs": [
        {
          "output_type": "stream",
          "name": "stdout",
          "text": [
            "+----+----+---------+---+-----------+----+----------+-----+------+----+\n",
            "|   D|   H|      HDD| Id|      Model| RAM|ScreenSize|    W|Weight|Year|\n",
            "+----+----+---------+---+-----------+----+----------+-----+------+----+\n",
            "|9.48|0.61|512GB SSD|  1|MacBook Pro|16GB|       15\"|13.75|  4.02|2015|\n",
            "+----+----+---------+---+-----------+----+----------+-----+------+----+\n",
            "\n"
          ]
        }
      ],
      "source": [
        "result = spark.sql('SELECT * FROM my_view WHERE Year = 2015')\n",
        "\n",
        "result.show()"
      ]
    },
    {
      "cell_type": "markdown",
      "id": "69e0a655",
      "metadata": {
        "id": "69e0a655"
      },
      "source": [
        "### Get all when \"Model\" start with \"M\":"
      ]
    },
    {
      "cell_type": "code",
      "execution_count": null,
      "id": "fc413c67",
      "metadata": {
        "colab": {
          "base_uri": "https://localhost:8080/"
        },
        "id": "fc413c67",
        "outputId": "18d08a00-3a31-4a6b-b922-5f261f3b7002"
      },
      "outputs": [
        {
          "output_type": "stream",
          "name": "stdout",
          "text": [
            "+-----------+\n",
            "|      Model|\n",
            "+-----------+\n",
            "|MacBook Pro|\n",
            "|    MacBook|\n",
            "|MacBook Air|\n",
            "|       iMac|\n",
            "+-----------+\n",
            "\n"
          ]
        }
      ],
      "source": [
        "result = spark.sql('SELECT Model FROM my_view')\n",
        "\n",
        "result.show()"
      ]
    },
    {
      "cell_type": "markdown",
      "id": "437d72ca",
      "metadata": {
        "id": "437d72ca"
      },
      "source": [
        "### Get all data when \"Model\" column equal \"MacBook Pro\""
      ]
    },
    {
      "cell_type": "code",
      "execution_count": null,
      "id": "1bee7165",
      "metadata": {
        "colab": {
          "base_uri": "https://localhost:8080/"
        },
        "id": "1bee7165",
        "outputId": "da709506-6ea0-4e6f-a948-99e10c1385b9"
      },
      "outputs": [
        {
          "output_type": "stream",
          "name": "stdout",
          "text": [
            "+----+----+---------+---+-----------+----+----------+-----+------+----+\n",
            "|   D|   H|      HDD| Id|      Model| RAM|ScreenSize|    W|Weight|Year|\n",
            "+----+----+---------+---+-----------+----+----------+-----+------+----+\n",
            "|9.48|0.61|512GB SSD|  1|MacBook Pro|16GB|       15\"|13.75|  4.02|2015|\n",
            "+----+----+---------+---+-----------+----+----------+-----+------+----+\n",
            "\n"
          ]
        }
      ],
      "source": [
        "result = spark.sql('SELECT * FROM my_view WHERE Model = \"MacBook Pro\"')\n",
        "\n",
        "result.show()"
      ]
    },
    {
      "cell_type": "markdown",
      "id": "be87a7b7",
      "metadata": {
        "id": "be87a7b7"
      },
      "source": [
        "### Get all data with Multiple Conditions when \"RAM\" column equal \"8GB\" and \"Model\" column is \"Macbook\"."
      ]
    },
    {
      "cell_type": "code",
      "execution_count": null,
      "id": "1b655003",
      "metadata": {
        "colab": {
          "base_uri": "https://localhost:8080/"
        },
        "id": "1b655003",
        "outputId": "62c2eb61-506f-4c6e-b4f8-c368a0d300d8"
      },
      "outputs": [
        {
          "output_type": "stream",
          "name": "stdout",
          "text": [
            "+----+----+---------+---+-----------+---+----------+-----+------+----+\n",
            "|   D|   H|      HDD| Id|      Model|RAM|ScreenSize|    W|Weight|Year|\n",
            "+----+----+---------+---+-----------+---+----------+-----+------+----+\n",
            "|7.74|0.52|256GB SSD|  2|    MacBook|8GB|       12\"|11.04|  2.03|2016|\n",
            "|8.94|0.68|128GB SSD|  3|MacBook Air|8GB|     13.3\"| 12.8|  2.96|2016|\n",
            "+----+----+---------+---+-----------+---+----------+-----+------+----+\n",
            "\n"
          ]
        }
      ],
      "source": [
        "result = spark.sql('SELECT * FROM my_view WHERE RAM = \"8GB\"')\n",
        "\n",
        "result.show()"
      ]
    },
    {
      "cell_type": "markdown",
      "id": "2f730cee",
      "metadata": {
        "id": "2f730cee"
      },
      "source": [
        "### Get all data with Multiple Conditions when \"D\" greater than or equal \"8\" and \"Model\" column is \"iMac\"."
      ]
    },
    {
      "cell_type": "code",
      "execution_count": null,
      "id": "2760efa7",
      "metadata": {
        "colab": {
          "base_uri": "https://localhost:8080/"
        },
        "id": "2760efa7",
        "outputId": "23deadb5-bd79-425f-ba2a-01b20e8a7db4"
      },
      "outputs": [
        {
          "output_type": "stream",
          "name": "stdout",
          "text": [
            "+---+----+-------+---+-----+----+----------+----+------+----+\n",
            "|  D|   H|    HDD| Id|Model| RAM|ScreenSize|   W|Weight|Year|\n",
            "+---+----+-------+---+-----+----+----------+----+------+----+\n",
            "|8.0|20.3|1TB SSD|  4| iMac|64GB|       27\"|25.6|  20.8|2017|\n",
            "+---+----+-------+---+-----+----+----------+----+------+----+\n",
            "\n"
          ]
        }
      ],
      "source": [
        "result = spark.sql(\"SELECT * FROM my_view WHERE D >= 8 AND Model = 'iMac'\")\n",
        "\n",
        "result.show()"
      ]
    },
    {
      "cell_type": "code",
      "execution_count": null,
      "id": "8ba97c06",
      "metadata": {
        "id": "8ba97c06"
      },
      "outputs": [],
      "source": []
    }
  ],
  "metadata": {
    "kernelspec": {
      "display_name": "Python 3 (ipykernel)",
      "language": "python",
      "name": "python3"
    },
    "language_info": {
      "codemirror_mode": {
        "name": "ipython",
        "version": 3
      },
      "file_extension": ".py",
      "mimetype": "text/x-python",
      "name": "python",
      "nbconvert_exporter": "python",
      "pygments_lexer": "ipython3",
      "version": "3.9.13"
    },
    "colab": {
      "provenance": []
    }
  },
  "nbformat": 4,
  "nbformat_minor": 5
}