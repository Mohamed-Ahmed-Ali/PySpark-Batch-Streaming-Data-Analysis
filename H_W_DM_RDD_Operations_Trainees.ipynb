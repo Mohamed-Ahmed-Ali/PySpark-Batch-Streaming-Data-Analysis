{
  "cells": [
    {
      "cell_type": "markdown",
      "metadata": {
        "id": "2568221b"
      },
      "source": [
        "### Import the required libraries then Create SparkContext"
      ],
      "id": "2568221b"
    },
    {
      "cell_type": "code",
      "execution_count": null,
      "metadata": {
        "colab": {
          "base_uri": "https://localhost:8080/"
        },
        "id": "cWsZFNdAmduC",
        "outputId": "870b3298-c090-4b74-d6ad-706fa32b6fb0"
      },
      "outputs": [
        {
          "output_type": "stream",
          "name": "stdout",
          "text": [
            "Requirement already satisfied: pyspark in /usr/local/lib/python3.10/dist-packages (3.5.0)\n",
            "Requirement already satisfied: py4j==0.10.9.7 in /usr/local/lib/python3.10/dist-packages (from pyspark) (0.10.9.7)\n"
          ]
        }
      ],
      "source": [
        "!pip install pyspark"
      ],
      "id": "cWsZFNdAmduC"
    },
    {
      "cell_type": "code",
      "execution_count": null,
      "metadata": {
        "id": "reLxx6gsn8xg"
      },
      "outputs": [],
      "source": [
        "from pyspark import SparkContext\n",
        "from pyspark.sql import SparkSession\n",
        "spark = SparkSession.builder\\\n",
        ".master (\"local\")\\\n",
        ".appName (\"Colab\")\\\n",
        ".config ('spark.ui.port', '4050')\\\n",
        ".getOrCreate ()"
      ],
      "id": "reLxx6gsn8xg"
    },
    {
      "cell_type": "code",
      "execution_count": null,
      "metadata": {
        "colab": {
          "base_uri": "https://localhost:8080/",
          "height": 219
        },
        "id": "7Go_--aRoHkQ",
        "outputId": "4bb55d85-e457-425a-cb94-806a228d41cd"
      },
      "outputs": [
        {
          "output_type": "execute_result",
          "data": {
            "text/plain": [
              "<pyspark.sql.session.SparkSession at 0x7e88d4637ee0>"
            ],
            "text/html": [
              "\n",
              "            <div>\n",
              "                <p><b>SparkSession - in-memory</b></p>\n",
              "                \n",
              "        <div>\n",
              "            <p><b>SparkContext</b></p>\n",
              "\n",
              "            <p><a href=\"http://45c7eb89208d:4050\">Spark UI</a></p>\n",
              "\n",
              "            <dl>\n",
              "              <dt>Version</dt>\n",
              "                <dd><code>v3.5.0</code></dd>\n",
              "              <dt>Master</dt>\n",
              "                <dd><code>local</code></dd>\n",
              "              <dt>AppName</dt>\n",
              "                <dd><code>Colab</code></dd>\n",
              "            </dl>\n",
              "        </div>\n",
              "        \n",
              "            </div>\n",
              "        "
            ]
          },
          "metadata": {},
          "execution_count": 36
        }
      ],
      "source": [
        "spark"
      ],
      "id": "7Go_--aRoHkQ"
    },
    {
      "cell_type": "code",
      "execution_count": null,
      "metadata": {
        "id": "6F3E7hutoJWL"
      },
      "outputs": [],
      "source": [
        "sc=spark.sparkContext"
      ],
      "id": "6F3E7hutoJWL"
    },
    {
      "cell_type": "markdown",
      "metadata": {
        "id": "e9a7d9c6"
      },
      "source": [
        "### Create and display an RDD from the following list\n",
        "\n",
        "\n",
        "\n"
      ],
      "id": "e9a7d9c6"
    },
    {
      "cell_type": "code",
      "execution_count": null,
      "metadata": {
        "id": "409084ef"
      },
      "outputs": [],
      "source": [
        "data = [('JK', 22), ('V', 24), ('Jimin',24), ('RM', 25), ('J-Hope', 25), ('Suga', 26), ('Jin', 27)]"
      ],
      "id": "409084ef"
    },
    {
      "cell_type": "code",
      "execution_count": null,
      "metadata": {
        "colab": {
          "base_uri": "https://localhost:8080/"
        },
        "id": "d5ba0725",
        "outputId": "bb4b6b60-869f-43e7-998e-2426f864dfb0",
        "scrolled": false
      },
      "outputs": [
        {
          "output_type": "execute_result",
          "data": {
            "text/plain": [
              "ParallelCollectionRDD[26] at readRDDFromFile at PythonRDD.scala:289"
            ]
          },
          "metadata": {},
          "execution_count": 39
        }
      ],
      "source": [
        "rdd = sc.parallelize(data)\n",
        "\n",
        "rdd"
      ],
      "id": "d5ba0725"
    },
    {
      "cell_type": "code",
      "execution_count": null,
      "metadata": {
        "colab": {
          "base_uri": "https://localhost:8080/"
        },
        "id": "EmKtSKHOongl",
        "outputId": "2306f81f-b966-4165-9233-51af69af038f"
      },
      "outputs": [
        {
          "output_type": "execute_result",
          "data": {
            "text/plain": [
              "[('JK', 22),\n",
              " ('V', 24),\n",
              " ('Jimin', 24),\n",
              " ('RM', 25),\n",
              " ('J-Hope', 25),\n",
              " ('Suga', 26),\n",
              " ('Jin', 27)]"
            ]
          },
          "metadata": {},
          "execution_count": 40
        }
      ],
      "source": [
        "rdd.collect()"
      ],
      "id": "EmKtSKHOongl"
    },
    {
      "cell_type": "markdown",
      "metadata": {
        "id": "823af0d6"
      },
      "source": [
        "### Create a sample1.txt file to contain the text shown below."
      ],
      "id": "823af0d6"
    },
    {
      "cell_type": "code",
      "execution_count": null,
      "metadata": {
        "colab": {
          "base_uri": "https://localhost:8080/"
        },
        "id": "66668929",
        "outputId": "74ecdbc4-8350-4365-d1c0-710870086e20"
      },
      "outputs": [
        {
          "output_type": "stream",
          "name": "stdout",
          "text": [
            "\n",
            "Utilitatis causa amicitia est quaesita.\n",
            "Lorem ipsum dolor sit amet, consectetur adipiscing elit.\n",
            "Collatio igitur ista tenihil iuvat.\n",
            "Honesta oratio, Socratica, Platonis etiam.\n",
            "Primum in nostranepotestate est, quid meminerimus?\n",
            "Duo Reges: constructio interrete.\n",
            "Quid, sietiam iucunda memoria est praeteritorum malorum?\n",
            "Si quidem, inquit, tollerem,\n"
          ]
        }
      ],
      "source": [
        "print('''\n",
        "Utilitatis causa amicitia est quaesita.\n",
        "Lorem ipsum dolor sit amet, consectetur adipiscing elit.\n",
        "Collatio igitur ista tenihil iuvat.\n",
        "Honesta oratio, Socratica, Platonis etiam.\n",
        "Primum in nostranepotestate est, quid meminerimus?\n",
        "Duo Reges: constructio interrete.\n",
        "Quid, sietiam iucunda memoria est praeteritorum malorum?\n",
        "Si quidem, inquit, tollerem,''')"
      ],
      "id": "66668929"
    },
    {
      "cell_type": "code",
      "source": [
        "%%writefile sample.txt\n",
        "Utilitatis causa amicitia est quaesita.\n",
        "Lorem ipsum dolor sit amet, consectetur adipiscing elit.\n",
        "Collatio igitur ista tenihil iuvat.\n",
        "Honesta oratio, Socratica, Platonis etiam.\n",
        "Primum in nostranepotestate est, quid meminerimus?\n",
        "Duo Reges: constructio interrete.\n",
        "Quid, sietiam iucunda memoria est praeteritorum malorum?\n",
        "Si quidem, inquit, tollerem,"
      ],
      "metadata": {
        "id": "g8leNyMM8qYt"
      },
      "id": "g8leNyMM8qYt",
      "execution_count": null,
      "outputs": []
    },
    {
      "cell_type": "code",
      "execution_count": null,
      "metadata": {
        "id": "tNf5L6pyklrN"
      },
      "outputs": [],
      "source": [
        "data = ['''Utilitatis causa amicitia est quaesita.\n",
        "Lorem ipsum dolor sit amet, consectetur adipiscing elit.\n",
        "Collatio igitur ista tenihil iuvat.\n",
        "Honesta oratio, Socratica, Platonis etiam.\n",
        "Primum in nostranepotestate est, quid meminerimus?\n",
        "Duo Reges: constructio interrete.\n",
        "Quid, sietiam iucunda memoria est praeteritorum malorum?\n",
        "Si quidem, inquit, tollerem,''']\n",
        "\n",
        "rdd2 = sc.parallelize(data)\n",
        "\n",
        "rdd2.saveAsTextFile(\"sample1.txt\")"
      ],
      "id": "tNf5L6pyklrN"
    },
    {
      "cell_type": "markdown",
      "metadata": {
        "id": "49249054"
      },
      "source": [
        "### Read sample1.txt file into RDD and displaying the first 4 elements"
      ],
      "id": "49249054"
    },
    {
      "cell_type": "code",
      "execution_count": null,
      "metadata": {
        "id": "0732dc1d"
      },
      "outputs": [],
      "source": [
        "rdd2 = sc.textFile(\"sample1.txt\")"
      ],
      "id": "0732dc1d"
    },
    {
      "cell_type": "code",
      "execution_count": null,
      "metadata": {
        "colab": {
          "base_uri": "https://localhost:8080/"
        },
        "id": "KgAI3H8UpoRW",
        "outputId": "70ffc0ce-6ca3-48b3-9d24-81a536e21b70"
      },
      "outputs": [
        {
          "output_type": "execute_result",
          "data": {
            "text/plain": [
              "['Utilitatis causa amicitia est quaesita.',\n",
              " 'Lorem ipsum dolor sit amet, consectetur adipiscing elit.',\n",
              " 'Collatio igitur ista tenihil iuvat.',\n",
              " 'Honesta oratio, Socratica, Platonis etiam.']"
            ]
          },
          "metadata": {},
          "execution_count": 57
        }
      ],
      "source": [
        "rdd2.take(4)"
      ],
      "id": "KgAI3H8UpoRW"
    },
    {
      "cell_type": "markdown",
      "metadata": {
        "id": "f0194c12"
      },
      "source": [
        "### Count the total number of rows in RDD"
      ],
      "id": "f0194c12"
    },
    {
      "cell_type": "code",
      "execution_count": null,
      "metadata": {
        "id": "vaDtykByp4cP",
        "colab": {
          "base_uri": "https://localhost:8080/"
        },
        "outputId": "cd20c4e1-22bf-4ad2-9b38-78187cfa18e2"
      },
      "outputs": [
        {
          "output_type": "execute_result",
          "data": {
            "text/plain": [
              "8"
            ]
          },
          "metadata": {},
          "execution_count": 58
        }
      ],
      "source": [
        "rdd2.count()"
      ],
      "id": "vaDtykByp4cP"
    },
    {
      "cell_type": "markdown",
      "metadata": {
        "id": "e7c4dc87"
      },
      "source": [
        "### Create a function to convert the data into lower case and splitting it"
      ],
      "id": "e7c4dc87"
    },
    {
      "cell_type": "code",
      "execution_count": null,
      "metadata": {
        "id": "YqssKHEjqe6N",
        "colab": {
          "base_uri": "https://localhost:8080/"
        },
        "outputId": "797430ba-b2e3-4b55-95ab-94b2a5c21f07"
      },
      "outputs": [
        {
          "output_type": "execute_result",
          "data": {
            "text/plain": [
              "[['utilitatis', 'causa', 'amicitia', 'est', 'quaesita.'],\n",
              " ['lorem',\n",
              "  'ipsum',\n",
              "  'dolor',\n",
              "  'sit',\n",
              "  'amet,',\n",
              "  'consectetur',\n",
              "  'adipiscing',\n",
              "  'elit.'],\n",
              " ['collatio', 'igitur', 'ista', 'tenihil', 'iuvat.'],\n",
              " ['honesta', 'oratio,', 'socratica,', 'platonis', 'etiam.'],\n",
              " ['primum', 'in', 'nostranepotestate', 'est,', 'quid', 'meminerimus?']]"
            ]
          },
          "metadata": {},
          "execution_count": 59
        }
      ],
      "source": [
        "def preprocess_rdd(rdd):\n",
        "    def process_line(line):\n",
        "        # Convert to lowercase and split\n",
        "        return line.lower().split()\n",
        "\n",
        "    return rdd.map(process_line)\n",
        "\n",
        "rdd3 = preprocess_rdd(rdd2)\n",
        "\n",
        "rdd3.take(5)"
      ],
      "id": "YqssKHEjqe6N"
    },
    {
      "cell_type": "markdown",
      "metadata": {
        "id": "7437d37f"
      },
      "source": [
        "### Remove the stopwords from the previous text. i.e. Remove it."
      ],
      "id": "7437d37f"
    },
    {
      "cell_type": "code",
      "execution_count": null,
      "metadata": {
        "id": "358d6cd7"
      },
      "outputs": [],
      "source": [
        "stopwords = ['a','all','the','as','is','am','an','and',\n",
        "             'be','been','from','had','I','I’d','why','with']"
      ],
      "id": "358d6cd7"
    },
    {
      "cell_type": "code",
      "execution_count": null,
      "metadata": {
        "id": "quZ66nB6rvCT"
      },
      "outputs": [],
      "source": [
        "def removeStopwords(line):\n",
        "    return [word for word in line.lower().split() if word not in stopwords]\n",
        "\n",
        "rdd4 = rdd2.flatMap(removeStopwords)"
      ],
      "id": "quZ66nB6rvCT"
    },
    {
      "cell_type": "code",
      "execution_count": null,
      "metadata": {
        "id": "fhd8WxWos1dg",
        "colab": {
          "base_uri": "https://localhost:8080/"
        },
        "outputId": "53c74f68-36ee-42e9-ce3f-7ddea6947703"
      },
      "outputs": [
        {
          "output_type": "execute_result",
          "data": {
            "text/plain": [
              "['utilitatis',\n",
              " 'causa',\n",
              " 'amicitia',\n",
              " 'est',\n",
              " 'quaesita.',\n",
              " 'lorem',\n",
              " 'ipsum',\n",
              " 'dolor',\n",
              " 'sit',\n",
              " 'amet,',\n",
              " 'consectetur',\n",
              " 'adipiscing',\n",
              " 'elit.',\n",
              " 'collatio',\n",
              " 'igitur',\n",
              " 'ista',\n",
              " 'tenihil',\n",
              " 'iuvat.',\n",
              " 'honesta',\n",
              " 'oratio,',\n",
              " 'socratica,',\n",
              " 'platonis',\n",
              " 'etiam.',\n",
              " 'primum',\n",
              " 'in',\n",
              " 'nostranepotestate',\n",
              " 'est,',\n",
              " 'quid',\n",
              " 'meminerimus?',\n",
              " 'duo',\n",
              " 'reges:',\n",
              " 'constructio',\n",
              " 'interrete.',\n",
              " 'quid,',\n",
              " 'sietiam',\n",
              " 'iucunda',\n",
              " 'memoria',\n",
              " 'est',\n",
              " 'praeteritorum',\n",
              " 'malorum?',\n",
              " 'si',\n",
              " 'quidem,',\n",
              " 'inquit,',\n",
              " 'tollerem,']"
            ]
          },
          "metadata": {},
          "execution_count": 62
        }
      ],
      "source": [
        "rdd4.collect()"
      ],
      "id": "fhd8WxWos1dg"
    },
    {
      "cell_type": "markdown",
      "metadata": {
        "id": "fb9f6058"
      },
      "source": [
        "### Find the words starting with ‘c’"
      ],
      "id": "fb9f6058"
    },
    {
      "cell_type": "code",
      "execution_count": null,
      "metadata": {
        "id": "vgXuTI_Pviql",
        "colab": {
          "base_uri": "https://localhost:8080/"
        },
        "outputId": "0c1fe1a2-18e3-456a-f738-0dccb184f9bb"
      },
      "outputs": [
        {
          "output_type": "execute_result",
          "data": {
            "text/plain": [
              "['causa', 'consectetur', 'collatio', 'constructio']"
            ]
          },
          "metadata": {},
          "execution_count": 63
        }
      ],
      "source": [
        "rdd5 = rdd4.filter(lambda word: word.startswith('c'))\n",
        "\n",
        "rdd5.take(4)"
      ],
      "id": "vgXuTI_Pviql"
    },
    {
      "cell_type": "markdown",
      "metadata": {
        "id": "eba39e2e"
      },
      "source": [
        "### Reduce the data by key and sum it (use the data from the following list)"
      ],
      "id": "eba39e2e"
    },
    {
      "cell_type": "code",
      "execution_count": null,
      "metadata": {
        "id": "f26dea46"
      },
      "outputs": [],
      "source": [
        "data2 = [('JK', 22), ('V', 24), ('Jimin',24), ('RM', 25)\n",
        "        , ('J-Hope', 25), ('Suga', 26), ('Jin', 27)\n",
        "       , ('J-Hope', 12), ('Suga', 25), ('Jin', 34)\n",
        "       , ('JK', 32), ('V', 44), ('Jimin',14), ('RM', 35)]"
      ],
      "id": "f26dea46"
    },
    {
      "cell_type": "code",
      "execution_count": null,
      "metadata": {
        "id": "S3fZac2hv24P",
        "colab": {
          "base_uri": "https://localhost:8080/"
        },
        "outputId": "fae9d6f5-2e19-4a22-ab2d-64911d5a09c5"
      },
      "outputs": [
        {
          "output_type": "stream",
          "name": "stdout",
          "text": [
            "[('JK', 54), ('V', 68), ('Jimin', 38), ('RM', 60), ('J-Hope', 37), ('Suga', 51), ('Jin', 61)]\n"
          ]
        }
      ],
      "source": [
        "rdd6 = sc.parallelize(data2)\n",
        "\n",
        "reduced_rdd = rdd6.reduceByKey(lambda x, y: x + y)\n",
        "\n",
        "result = reduced_rdd.collect()\n",
        "\n",
        "print(result)"
      ],
      "id": "S3fZac2hv24P"
    },
    {
      "cell_type": "markdown",
      "metadata": {
        "id": "a4587230"
      },
      "source": [
        "### Creat some key value pairs RDDs"
      ],
      "id": "a4587230"
    },
    {
      "cell_type": "code",
      "execution_count": null,
      "metadata": {
        "id": "cfb446ee"
      },
      "outputs": [],
      "source": [
        "rdd1 = sc.parallelize([('a',2),('b',3)])\n",
        "rdd2 = sc.parallelize([('a',9),('b',7),('c',10)])"
      ],
      "id": "cfb446ee"
    },
    {
      "cell_type": "code",
      "execution_count": null,
      "metadata": {
        "id": "DShzR6c2wfS9",
        "colab": {
          "base_uri": "https://localhost:8080/"
        },
        "outputId": "ffa7c597-534e-4f2e-9706-173766386ff8"
      },
      "outputs": [
        {
          "output_type": "stream",
          "name": "stdout",
          "text": [
            "[(('a', 2), ('a', 2)), (('b', 3), ('b', 3))]\n",
            "[(9, ('a', 9)), (7, ('b', 7)), (10, ('c', 10))]\n"
          ]
        }
      ],
      "source": [
        "new_rdd1 = rdd1.keyBy(lambda x: (x[0],x[1]))\n",
        "new_rdd2 = rdd2.keyBy(lambda x: x[1])\n",
        "\n",
        "print(new_rdd1.collect())\n",
        "print(new_rdd2.collect())"
      ],
      "id": "DShzR6c2wfS9"
    },
    {
      "cell_type": "markdown",
      "metadata": {
        "id": "98ec3168"
      },
      "source": [
        "### Perform Join operation on the RDDs (rdd1,rdd2)"
      ],
      "id": "98ec3168"
    },
    {
      "cell_type": "code",
      "execution_count": null,
      "metadata": {
        "id": "5fc98e9f",
        "colab": {
          "base_uri": "https://localhost:8080/"
        },
        "outputId": "e987c48e-2d5d-4b93-a81a-85cc59ebf5a7"
      },
      "outputs": [
        {
          "output_type": "stream",
          "name": "stdout",
          "text": [
            "[('b', (3, 7)), ('a', (2, 9))]\n"
          ]
        }
      ],
      "source": [
        "joined_rdd = rdd1.join(rdd2)\n",
        "\n",
        "print(joined_rdd.collect())"
      ],
      "id": "5fc98e9f"
    },
    {
      "cell_type": "code",
      "execution_count": null,
      "metadata": {
        "id": "BgKs8Nw5jLMH"
      },
      "outputs": [],
      "source": [],
      "id": "BgKs8Nw5jLMH"
    }
  ],
  "metadata": {
    "colab": {
      "provenance": []
    },
    "kernelspec": {
      "display_name": "Python 3 (ipykernel)",
      "language": "python",
      "name": "python3"
    },
    "language_info": {
      "codemirror_mode": {
        "name": "ipython",
        "version": 3
      },
      "file_extension": ".py",
      "mimetype": "text/x-python",
      "name": "python",
      "nbconvert_exporter": "python",
      "pygments_lexer": "ipython3",
      "version": "3.9.12"
    }
  },
  "nbformat": 4,
  "nbformat_minor": 5
}